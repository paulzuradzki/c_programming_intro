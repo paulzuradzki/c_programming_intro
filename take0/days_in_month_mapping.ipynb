{
 "cells": [
  {
   "cell_type": "code",
   "execution_count": 1,
   "metadata": {},
   "outputs": [],
   "source": [
    "days = [31, 28, 31, 30, 31, 30, 31, 31, 30, 31, 30, 31]"
   ]
  },
  {
   "cell_type": "code",
   "execution_count": 2,
   "metadata": {},
   "outputs": [],
   "source": [
    "months_str = 'Jan Feb Mar Apr May Jun Jul Aug Sep Oct Nov Dec'\n",
    "months = months_str.split(' ')"
   ]
  },
  {
   "cell_type": "code",
   "execution_count": 6,
   "metadata": {},
   "outputs": [
    {
     "data": {
      "text/plain": [
       "[(31, 'Jan'),\n",
       " (28, 'Feb'),\n",
       " (31, 'Mar'),\n",
       " (30, 'Apr'),\n",
       " (31, 'May'),\n",
       " (30, 'Jun'),\n",
       " (31, 'Jul'),\n",
       " (31, 'Aug'),\n",
       " (30, 'Sep'),\n",
       " (31, 'Oct'),\n",
       " (30, 'Nov'),\n",
       " (31, 'Dec')]"
      ]
     },
     "execution_count": 6,
     "metadata": {},
     "output_type": "execute_result"
    }
   ],
   "source": [
    "list(zip(days, months))"
   ]
  },
  {
   "cell_type": "code",
   "execution_count": 15,
   "metadata": {},
   "outputs": [
    {
     "name": "stdout",
     "output_type": "stream",
     "text": [
      "{31,{'J','a','n'}},\n",
      "{28,{'F','e','b'}},\n",
      "{31,{'M','a','r'}},\n",
      "{30,{'A','p','r'}},\n",
      "{31,{'M','a','y'}},\n",
      "{30,{'J','u','n'}},\n",
      "{31,{'J','u','l'}},\n",
      "{31,{'A','u','g'}},\n",
      "{30,{'S','e','p'}},\n",
      "{31,{'O','c','t'}},\n",
      "{30,{'N','o','v'}},\n",
      "{31,{'D','e','c'}},\n"
     ]
    }
   ],
   "source": [
    "for d, m in list(zip(days, months)):\n",
    "    print(\"{{{},{{'{}','{}','{}'}}}},\".format(d, m[0], m[1], m[2]))"
   ]
  },
  {
   "cell_type": "code",
   "execution_count": null,
   "metadata": {},
   "outputs": [],
   "source": []
  },
  {
   "cell_type": "code",
   "execution_count": null,
   "metadata": {},
   "outputs": [],
   "source": []
  }
 ],
 "metadata": {
  "kernelspec": {
   "display_name": "Python 3",
   "language": "python",
   "name": "python3"
  },
  "language_info": {
   "codemirror_mode": {
    "name": "ipython",
    "version": 3
   },
   "file_extension": ".py",
   "mimetype": "text/x-python",
   "name": "python",
   "nbconvert_exporter": "python",
   "pygments_lexer": "ipython3",
   "version": "3.7.1"
  }
 },
 "nbformat": 4,
 "nbformat_minor": 2
}
